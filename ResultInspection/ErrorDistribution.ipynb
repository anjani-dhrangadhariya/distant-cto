{
 "cells": [
  {
   "cell_type": "code",
   "execution_count": null,
   "metadata": {},
   "outputs": [],
   "source": []
  },
  {
   "cell_type": "code",
   "execution_count": 205,
   "metadata": {},
   "outputs": [],
   "source": [
    "import csv\n",
    "import itertools \n",
    "from collections import Counter\n",
    "import more_itertools as mit\n",
    "\n",
    "# Visualization\n",
    "import random\n",
    "import numpy\n",
    "from matplotlib import pyplot\n",
    "\n",
    "# Statistics\n",
    "import statistics\n",
    "import numpy"
   ]
  },
  {
   "cell_type": "code",
   "execution_count": 185,
   "metadata": {},
   "outputs": [],
   "source": [
    "# Files to inspect\n",
    "emb_nlp_results = '/home/anjani/distant-cto/ResultInspection/ebm_test.csv'\n",
    "hilfiker_results = '/home/anjani/distant-cto/ResultInspection/hilfiker.csv'"
   ]
  },
  {
   "cell_type": "code",
   "execution_count": 202,
   "metadata": {},
   "outputs": [],
   "source": [
    "def median(lst):\n",
    "    sortedLst = sorted(lst)\n",
    "    lstLen = len(lst)\n",
    "    index = (lstLen - 1) // 2\n",
    "   \n",
    "    if (lstLen % 2):\n",
    "        return sortedLst[index]\n",
    "    else:\n",
    "        return (sortedLst[index] + sortedLst[index + 1])/2.0"
   ]
  },
  {
   "cell_type": "code",
   "execution_count": 186,
   "metadata": {},
   "outputs": [],
   "source": [
    "def plotData(false_positive_ratios_neg, false_positive_ratios_pos, data_type):\n",
    "    bins = numpy.linspace(0, 20, 100)\n",
    "\n",
    "    pyplot.hist(false_positive_ratios_neg, bins, alpha=0.5, label='FP ' + data_type + ' in negative sentences')\n",
    "    pyplot.hist(false_positive_ratios_pos, bins, alpha=0.5, label='FP ' + data_type + ' in positive sentences')\n",
    "    pyplot.xlabel('Ratio', fontsize=18)\n",
    "    pyplot.ylabel('Frequency', fontsize=18)\n",
    "    pyplot.legend(loc='upper right')\n",
    "    pyplot.show()"
   ]
  },
  {
   "cell_type": "code",
   "execution_count": 191,
   "metadata": {},
   "outputs": [],
   "source": [
    "def getFreq(tokens_, predictions_, groundtruths_):\n",
    "    false_positive_ratios_neg = []\n",
    "    false_positive_ratios_pos = []\n",
    "    false_positive_len_neg = []\n",
    "    false_positive_len_pos = []\n",
    "\n",
    "    for token_i, pred_i, ground_i in zip(tokens_, predictions_, groundtruths_):\n",
    "\n",
    "        if len(token_i) == 1 and token_i[0] == '[CLS]':\n",
    "            pass\n",
    "        else:\n",
    "\n",
    "            ground_int = [int(float(x)) for x in ground_i]\n",
    "            predictions_int = [int(float(x)) for x in pred_i]\n",
    "            sentence_length = len(token_i)\n",
    "\n",
    "            # Negative sentence\n",
    "            if sum(ground_int) == 0:\n",
    "\n",
    "                collated_neg = ['{}{}'.format(*i) for i in zip( predictions_int, ground_int )]\n",
    "                fp_sequences_neg = list(mit.run_length.encode(collated_neg))\n",
    "                for eachSeq in fp_sequences_neg:\n",
    "                    if '10' in eachSeq[0]:\n",
    "                        if eachSeq[1] > 0:\n",
    "                            fp_counter_ratio = sentence_length / eachSeq[1]\n",
    "                            false_positive_ratios_neg.append( fp_counter_ratio )\n",
    "                            false_positive_len_neg.append( eachSeq[1] )\n",
    "\n",
    "            # Positive sentence\n",
    "            elif sum(ground_int) > 0:\n",
    "\n",
    "                collated = ['{}{}'.format(*i) for i in zip( predictions_int, ground_int )]\n",
    "                fp_sequences = list(mit.run_length.encode(collated))\n",
    "                for eachSeq in fp_sequences:\n",
    "                    if '10' in eachSeq[0]:\n",
    "                        if eachSeq[1] > 0:\n",
    "                            fp_counter_ratio = sentence_length / eachSeq[1]\n",
    "                            false_positive_ratios_pos.append( fp_counter_ratio )\n",
    "                            false_positive_len_pos.append( eachSeq[1] )\n",
    "                            \n",
    "    return false_positive_ratios_neg, false_positive_ratios_pos, false_positive_len_neg, false_positive_len_pos"
   ]
  },
  {
   "cell_type": "code",
   "execution_count": 192,
   "metadata": {},
   "outputs": [],
   "source": [
    "def isplit(iterable,splitters):\n",
    "    return [list(g) for k,g in itertools.groupby(iterable,lambda x:x in splitters)]"
   ]
  },
  {
   "cell_type": "code",
   "execution_count": 214,
   "metadata": {},
   "outputs": [],
   "source": [
    "def getData(input_file):\n",
    "    with open(input_file, 'r') as results:\n",
    "        csv_reader = csv.reader(results, delimiter='\\t')\n",
    "        next(results)\n",
    "\n",
    "        tokens = []\n",
    "        predictions = []\n",
    "        groundtruths = []\n",
    "        \n",
    "\n",
    "        for row in csv_reader:\n",
    "            index = row[0]\n",
    "            token = row[1]\n",
    "            predicted = row[2]\n",
    "            groundtruth = row[3]\n",
    "\n",
    "            tokens.append(token)\n",
    "\n",
    "            if '[CLS]' in token:\n",
    "                predictions.append('[CLS]')\n",
    "                groundtruths.append('[CLS]')\n",
    "            else:\n",
    "                predictions.append(predicted)\n",
    "                groundtruths.append(groundtruth)\n",
    "                \n",
    "    tokens_ = isplit(tokens ,('[CLS]',))\n",
    "    predictions_ = isplit(predictions ,('[CLS]',))\n",
    "    groundtruths_ = isplit(groundtruths ,('[CLS]',))\n",
    "\n",
    "    assert len(tokens_) == len(predictions_) == len(groundtruths_)\n",
    "    \n",
    "    false_positive_ratios_neg, false_positive_ratios_pos, false_positive_len_neg, false_positive_len_pos = getFreq(tokens_, predictions_, groundtruths_)\n",
    "    \n",
    "    # Basic statistics\n",
    "    plotData(false_positive_ratios_neg, false_positive_ratios_pos, 'ratio')\n",
    "    print('The mean of false-positive ratios in the negative sentences is : ', statistics.mean(false_positive_ratios_neg))\n",
    "    print('The median of false-positive ratios in the negative sentences is : ', median(false_positive_ratios_neg))\n",
    "    fp_ratios_neg_c = Counter(false_positive_ratios_neg)\n",
    "    print('The mode of false-positive ratios in the negative sentences is : ',fp_ratios_neg_c.most_common(1))\n",
    "    std_ratio_neg = numpy.array(false_positive_ratios_neg)\n",
    "    print('The standard dev of false-positive ratios in the negative sentences is : ', numpy.std(std_ratio_neg, axis=0) )\n",
    "    \n",
    "    print('The mean of false-positive ratios in the positive sentences is : ', statistics.mean(false_positive_ratios_pos))\n",
    "    print('The median of false-positive ratios in the positive sentences is : ', median(false_positive_ratios_pos))\n",
    "    fp_ratios_pos_c = Counter(false_positive_ratios_pos)\n",
    "    print('The mode of false-positive ratios in the negative sentences is : ',fp_ratios_pos_c.most_common(1))\n",
    "    std_ratio_pos = numpy.array(false_positive_ratios_pos)\n",
    "    print('The standard dev of false-positive ratios in the positive sentences is : ', numpy.std(std_ratio_pos, axis=0) )\n",
    "    \n",
    "    \n",
    "    plotData(false_positive_len_neg, false_positive_len_pos, 'length')\n",
    "    print('The mean of false-positive lengths in the negative sentences is : ', statistics.mean(false_positive_len_neg))\n",
    "    print('The mean of false-positive lengths in the positive sentences is : ', statistics.mean(false_positive_len_pos))\n",
    "    \n",
    "\n",
    "    \n",
    "    return None"
   ]
  },
  {
   "cell_type": "code",
   "execution_count": 215,
   "metadata": {},
   "outputs": [
    {
     "data": {
      "image/png": "[encoded data removed]",
      "text/plain": [
       "<Figure size 432x288 with 1 Axes>"
      ]
     },
     "metadata": {
      "needs_background": "light"
     },
     "output_type": "display_data"
    },
    {
     "name": "stdout",
     "output_type": "stream",
     "text": [
      "The mean of false-positive ratios in the negative sentences is :  10.823177525546365\n",
      "The median of false-positive ratios in the negative sentences is :  7.5\n",
      "The mode of false-positive ratios in the negative sentences is :  [(1.0, 42)]\n",
      "The standard dev of false-positive ratios in the negative sentences is :  10.495887610834355\n",
      "The mean of false-positive ratios in the positive sentences is :  20.44915268022079\n",
      "The median of false-positive ratios in the positive sentences is :  17.0\n",
      "The mode of false-positive ratios in the negative sentences is :  [(26.0, 20)]\n",
      "The standard dev of false-positive ratios in the positive sentences is :  15.512914643246086\n"
     ]
    },
    {
     "data": {
      "image/png": "[encoded data removed]",
      "text/plain": [
       "<Figure size 432x288 with 1 Axes>"
      ]
     },
     "metadata": {
      "needs_background": "light"
     },
     "output_type": "display_data"
    },
    {
     "name": "stdout",
     "output_type": "stream",
     "text": [
      "The mean of false-positive lengths in the negative sentences is :  4.577807848443843\n",
      "The mean of false-positive lengths in the positive sentences is :  2.6386913229018494\n"
     ]
    }
   ],
   "source": [
    "getData(emb_nlp_results)"
   ]
  },
  {
   "cell_type": "code",
   "execution_count": 163,
   "metadata": {},
   "outputs": [],
   "source": []
  },
  {
   "cell_type": "code",
   "execution_count": 166,
   "metadata": {},
   "outputs": [],
   "source": []
  }
 ],
 "metadata": {
  "kernelspec": {
   "display_name": "Python 3",
   "language": "python",
   "name": "python3"
  },
  "language_info": {
   "codemirror_mode": {
    "name": "ipython",
    "version": 3
   },
   "file_extension": ".py",
   "mimetype": "text/x-python",
   "name": "python",
   "nbconvert_exporter": "python",
   "pygments_lexer": "ipython3",
   "version": "3.6.9"
  }
 },
 "nbformat": 4,
 "nbformat_minor": 2
}
